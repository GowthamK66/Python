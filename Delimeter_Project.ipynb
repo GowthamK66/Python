{
 "cells": [
  {
   "cell_type": "markdown",
   "id": "d0f28a9c",
   "metadata": {},
   "source": [
    "# Special-ops Delim Project"
   ]
  },
  {
   "cell_type": "markdown",
   "id": "e553d17f",
   "metadata": {},
   "source": [
    "Functionlity\n",
    "\n",
    "1, It gets the latest downloaded file from the download path\n",
    "\n",
    "2, then converting the .urj format file to .csv file\n",
    "\n",
    "3, later we use delimiter to remove tilde symbols in the csv file\n",
    "\n",
    "4, finally we save the viewable file in same downloaded path"
   ]
  },
  {
   "cell_type": "code",
   "execution_count": 61,
   "id": "352fe242",
   "metadata": {},
   "outputs": [],
   "source": [
    "import os\n",
    "import pandas as pd"
   ]
  },
  {
   "cell_type": "code",
   "execution_count": 62,
   "id": "f108bf6b",
   "metadata": {},
   "outputs": [
    {
     "data": {
      "text/plain": [
       "'Test_AvidXchange_ZD233417_05_10_23_00_58.urj'"
      ]
     },
     "execution_count": 62,
     "metadata": {},
     "output_type": "execute_result"
    }
   ],
   "source": [
    "directory_path = r'C:\\Users\\urjanet\\Downloads'\n",
    "\n",
    "most_recent_time = 0\n",
    "most_recent_file = None\n",
    "\n",
    "\n",
    "# iterate over the files in the directory using os.scandir\n",
    "for entry in os.scandir(directory_path):\n",
    "    if entry.is_file():\n",
    "        # get the modification time of the file using entry.stat().st_mtime_ns\n",
    "        mod_time = entry.stat().st_mtime_ns\n",
    "        if mod_time > most_recent_time:\n",
    "            # update the most recent file and its modification time\n",
    "            most_recent_file = entry.name\n",
    "            most_recent_time = mod_time \n",
    "   \n",
    "            \n",
    "most_recent_file"
   ]
  },
  {
   "cell_type": "code",
   "execution_count": 63,
   "id": "9bc41084",
   "metadata": {},
   "outputs": [],
   "source": [
    "file = r\"C:\\Users\\urjanet\\Downloads\\{}\".format(most_recent_file)\n",
    "ext = '.'+ os.path.realpath(file).split('.')[-1:][0]\n",
    "filefinal = file.replace(ext,'.csv')\n",
    "os.rename(file ,filefinal) "
   ]
  },
  {
   "cell_type": "code",
   "execution_count": 64,
   "id": "881d852f",
   "metadata": {},
   "outputs": [
    {
     "name": "stdout",
     "output_type": "stream",
     "text": [
      "C:\\Users\\urjanet\\Downloads\\Test_AvidXchange_ZD233417_05_10_23_00_58.csv\n"
     ]
    }
   ],
   "source": [
    "print(filefinal)"
   ]
  },
  {
   "cell_type": "code",
   "execution_count": 65,
   "id": "7d2138a9",
   "metadata": {},
   "outputs": [],
   "source": [
    "df = pd.read_csv(filefinal,delimiter=\"~\")"
   ]
  },
  {
   "cell_type": "code",
   "execution_count": 66,
   "id": "c0465688",
   "metadata": {},
   "outputs": [
    {
     "data": {
      "text/html": [
       "<div>\n",
       "<style scoped>\n",
       "    .dataframe tbody tr th:only-of-type {\n",
       "        vertical-align: middle;\n",
       "    }\n",
       "\n",
       "    .dataframe tbody tr th {\n",
       "        vertical-align: top;\n",
       "    }\n",
       "\n",
       "    .dataframe thead th {\n",
       "        text-align: right;\n",
       "    }\n",
       "</style>\n",
       "<table border=\"1\" class=\"dataframe\">\n",
       "  <thead>\n",
       "    <tr style=\"text-align: right;\">\n",
       "      <th></th>\n",
       "      <th>AccountNumber</th>\n",
       "      <th>StatementDate</th>\n",
       "      <th>StatementCreatedDate</th>\n",
       "      <th>TotalBillAmount</th>\n",
       "      <th>AmountDue</th>\n",
       "      <th>NewCharges</th>\n",
       "      <th>OutstandingBalance</th>\n",
       "      <th>PreviousBalance</th>\n",
       "      <th>DueByDate</th>\n",
       "      <th>StatementType</th>\n",
       "      <th>...</th>\n",
       "      <th>ServiceType</th>\n",
       "      <th>Tariff</th>\n",
       "      <th>ServiceAddress</th>\n",
       "      <th>ServiceCity</th>\n",
       "      <th>ServiceState</th>\n",
       "      <th>ServiceZip</th>\n",
       "      <th>BulbType</th>\n",
       "      <th>BulbQuantity</th>\n",
       "      <th>MeterConstantMultiplier</th>\n",
       "      <th>MeterConversionMultiplier</th>\n",
       "    </tr>\n",
       "  </thead>\n",
       "  <tbody>\n",
       "    <tr>\n",
       "      <th>0</th>\n",
       "      <td>545853001.0</td>\n",
       "      <td>04/21/2023</td>\n",
       "      <td>04/22/2023</td>\n",
       "      <td>176.97</td>\n",
       "      <td>176.97</td>\n",
       "      <td>176.97</td>\n",
       "      <td>0.0</td>\n",
       "      <td>176.01</td>\n",
       "      <td>05/12/2023</td>\n",
       "      <td>statement_type_bill</td>\n",
       "      <td>...</td>\n",
       "      <td>NaN</td>\n",
       "      <td>NaN</td>\n",
       "      <td>NaN</td>\n",
       "      <td>NaN</td>\n",
       "      <td>NaN</td>\n",
       "      <td>NaN</td>\n",
       "      <td>NaN</td>\n",
       "      <td>NaN</td>\n",
       "      <td>NaN</td>\n",
       "      <td>NaN</td>\n",
       "    </tr>\n",
       "    <tr>\n",
       "      <th>1</th>\n",
       "      <td>NaN</td>\n",
       "      <td>NaN</td>\n",
       "      <td>NaN</td>\n",
       "      <td>NaN</td>\n",
       "      <td>NaN</td>\n",
       "      <td>NaN</td>\n",
       "      <td>NaN</td>\n",
       "      <td>NaN</td>\n",
       "      <td>NaN</td>\n",
       "      <td>NaN</td>\n",
       "      <td>...</td>\n",
       "      <td>NaN</td>\n",
       "      <td>NaN</td>\n",
       "      <td>NaN</td>\n",
       "      <td>NaN</td>\n",
       "      <td>NaN</td>\n",
       "      <td>NaN</td>\n",
       "      <td>NaN</td>\n",
       "      <td>NaN</td>\n",
       "      <td>NaN</td>\n",
       "      <td>NaN</td>\n",
       "    </tr>\n",
       "    <tr>\n",
       "      <th>2</th>\n",
       "      <td>NaN</td>\n",
       "      <td>NaN</td>\n",
       "      <td>NaN</td>\n",
       "      <td>NaN</td>\n",
       "      <td>NaN</td>\n",
       "      <td>NaN</td>\n",
       "      <td>NaN</td>\n",
       "      <td>NaN</td>\n",
       "      <td>NaN</td>\n",
       "      <td>NaN</td>\n",
       "      <td>...</td>\n",
       "      <td>NaN</td>\n",
       "      <td>NaN</td>\n",
       "      <td>NaN</td>\n",
       "      <td>NaN</td>\n",
       "      <td>NaN</td>\n",
       "      <td>NaN</td>\n",
       "      <td>NaN</td>\n",
       "      <td>NaN</td>\n",
       "      <td>NaN</td>\n",
       "      <td>NaN</td>\n",
       "    </tr>\n",
       "    <tr>\n",
       "      <th>3</th>\n",
       "      <td>NaN</td>\n",
       "      <td>NaN</td>\n",
       "      <td>NaN</td>\n",
       "      <td>NaN</td>\n",
       "      <td>NaN</td>\n",
       "      <td>NaN</td>\n",
       "      <td>NaN</td>\n",
       "      <td>NaN</td>\n",
       "      <td>NaN</td>\n",
       "      <td>NaN</td>\n",
       "      <td>...</td>\n",
       "      <td>electric</td>\n",
       "      <td>Outdoor Light</td>\n",
       "      <td>HWY 78 5295 SIGN AND LIGHTS</td>\n",
       "      <td>NaN</td>\n",
       "      <td>NaN</td>\n",
       "      <td>NaN</td>\n",
       "      <td>NaN</td>\n",
       "      <td>1.0</td>\n",
       "      <td>NaN</td>\n",
       "      <td>NaN</td>\n",
       "    </tr>\n",
       "    <tr>\n",
       "      <th>4</th>\n",
       "      <td>NaN</td>\n",
       "      <td>NaN</td>\n",
       "      <td>NaN</td>\n",
       "      <td>NaN</td>\n",
       "      <td>NaN</td>\n",
       "      <td>NaN</td>\n",
       "      <td>NaN</td>\n",
       "      <td>NaN</td>\n",
       "      <td>NaN</td>\n",
       "      <td>NaN</td>\n",
       "      <td>...</td>\n",
       "      <td>NaN</td>\n",
       "      <td>NaN</td>\n",
       "      <td>NaN</td>\n",
       "      <td>NaN</td>\n",
       "      <td>NaN</td>\n",
       "      <td>NaN</td>\n",
       "      <td>NaN</td>\n",
       "      <td>NaN</td>\n",
       "      <td>NaN</td>\n",
       "      <td>NaN</td>\n",
       "    </tr>\n",
       "  </tbody>\n",
       "</table>\n",
       "<p>5 rows × 112 columns</p>\n",
       "</div>"
      ],
      "text/plain": [
       "   AccountNumber StatementDate StatementCreatedDate  TotalBillAmount  \\\n",
       "0    545853001.0    04/21/2023           04/22/2023           176.97   \n",
       "1            NaN           NaN                  NaN              NaN   \n",
       "2            NaN           NaN                  NaN              NaN   \n",
       "3            NaN           NaN                  NaN              NaN   \n",
       "4            NaN           NaN                  NaN              NaN   \n",
       "\n",
       "   AmountDue  NewCharges  OutstandingBalance  PreviousBalance   DueByDate  \\\n",
       "0     176.97      176.97                 0.0           176.01  05/12/2023   \n",
       "1        NaN         NaN                 NaN              NaN         NaN   \n",
       "2        NaN         NaN                 NaN              NaN         NaN   \n",
       "3        NaN         NaN                 NaN              NaN         NaN   \n",
       "4        NaN         NaN                 NaN              NaN         NaN   \n",
       "\n",
       "         StatementType  ...  ServiceType         Tariff  \\\n",
       "0  statement_type_bill  ...          NaN            NaN   \n",
       "1                  NaN  ...          NaN            NaN   \n",
       "2                  NaN  ...          NaN            NaN   \n",
       "3                  NaN  ...     electric  Outdoor Light   \n",
       "4                  NaN  ...          NaN            NaN   \n",
       "\n",
       "                ServiceAddress ServiceCity ServiceState  ServiceZip BulbType  \\\n",
       "0                          NaN         NaN          NaN         NaN      NaN   \n",
       "1                          NaN         NaN          NaN         NaN      NaN   \n",
       "2                          NaN         NaN          NaN         NaN      NaN   \n",
       "3  HWY 78 5295 SIGN AND LIGHTS         NaN          NaN         NaN      NaN   \n",
       "4                          NaN         NaN          NaN         NaN      NaN   \n",
       "\n",
       "  BulbQuantity MeterConstantMultiplier MeterConversionMultiplier  \n",
       "0          NaN                     NaN                       NaN  \n",
       "1          NaN                     NaN                       NaN  \n",
       "2          NaN                     NaN                       NaN  \n",
       "3          1.0                     NaN                       NaN  \n",
       "4          NaN                     NaN                       NaN  \n",
       "\n",
       "[5 rows x 112 columns]"
      ]
     },
     "execution_count": 66,
     "metadata": {},
     "output_type": "execute_result"
    }
   ],
   "source": [
    "df.head()"
   ]
  },
  {
   "cell_type": "code",
   "execution_count": 67,
   "id": "efee4d7c",
   "metadata": {},
   "outputs": [
    {
     "data": {
      "text/plain": [
       "'Test_AvidXchange_ZD233417_05_10_23_00_58.urj'"
      ]
     },
     "execution_count": 67,
     "metadata": {},
     "output_type": "execute_result"
    }
   ],
   "source": [
    "most_recent_file"
   ]
  },
  {
   "cell_type": "code",
   "execution_count": 68,
   "id": "96f3ea65",
   "metadata": {},
   "outputs": [],
   "source": [
    "x = most_recent_file[:-4]"
   ]
  },
  {
   "cell_type": "code",
   "execution_count": 69,
   "id": "0106bb26",
   "metadata": {},
   "outputs": [],
   "source": [
    "file = \"/Users/urjanet/Downloads/{}.csv\".format(x)"
   ]
  },
  {
   "cell_type": "code",
   "execution_count": 70,
   "id": "6827a7dc",
   "metadata": {},
   "outputs": [
    {
     "name": "stdout",
     "output_type": "stream",
     "text": [
      "Success\n"
     ]
    }
   ],
   "source": [
    "df.to_csv(file,index=False)\n",
    "print('Success')"
   ]
  },
  {
   "cell_type": "code",
   "execution_count": null,
   "id": "6f86cfdf",
   "metadata": {},
   "outputs": [],
   "source": []
  }
 ],
 "metadata": {
  "kernelspec": {
   "display_name": "Python 3 (ipykernel)",
   "language": "python",
   "name": "python3"
  },
  "language_info": {
   "codemirror_mode": {
    "name": "ipython",
    "version": 3
   },
   "file_extension": ".py",
   "mimetype": "text/x-python",
   "name": "python",
   "nbconvert_exporter": "python",
   "pygments_lexer": "ipython3",
   "version": "3.9.12"
  }
 },
 "nbformat": 4,
 "nbformat_minor": 5
}
